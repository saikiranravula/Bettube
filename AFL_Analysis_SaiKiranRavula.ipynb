{
 "cells": [
  {
   "cell_type": "markdown",
   "metadata": {},
   "source": [
    "# Analysis of AFL Data -Sai Kiran Ravula"
   ]
  },
  {
   "cell_type": "code",
   "execution_count": 59,
   "metadata": {},
   "outputs": [],
   "source": [
    "import warnings\n",
    "import pandas as pd\n",
    "import numpy as np\n",
    "import seaborn as sbs\n",
    "import matplotlib.pyplot as plt\n",
    "warnings.filterwarnings('ignore')\n",
    "from sklearn.metrics import accuracy_score\n",
    "from sklearn.linear_model import LinearRegression\n",
    "from sklearn.model_selection import train_test_split\n",
    "from sklearn.feature_selection import RFE\n",
    "from sklearn.linear_model import LogisticRegression\n",
    "from sklearn.naive_bayes import GaussianNB\n",
    "from sklearn.ensemble import RandomForestClassifier\n",
    "from sklearn.neural_network import MLPClassifier"
   ]
  },
  {
   "cell_type": "code",
   "execution_count": 2,
   "metadata": {},
   "outputs": [
    {
     "data": {
      "text/html": [
       "\n",
       "<style>\n",
       "\n",
       "div.cell { /* Tunes the space between cells */\n",
       "margin-top:1em;\n",
       "margin-bottom:1em;\n",
       "}\n",
       "\n",
       "div.text_cell_render h1 { /* Main titles bigger, centered */\n",
       "font-size: 2.2em;\n",
       "line-height:1.4em;\n",
       "text-align:center;\n",
       "}\n",
       "\n",
       "div.text_cell_render h2 { /*  Parts names nearer from text */\n",
       "margin-bottom: -0.4em;\n",
       "}\n",
       "\n",
       "\n",
       "div.text_cell_render { /* Customize text cells */\n",
       "font-family: 'Times New Roman';\n",
       "font-style:italic;\n",
       "font-size:1.4em;\n",
       "line-height:1.4em;\n",
       "padding-left:0em;\n",
       "padding-right:0em;\n",
       "}\n",
       "</style>\n"
      ],
      "text/plain": [
       "<IPython.core.display.HTML object>"
      ]
     },
     "execution_count": 2,
     "metadata": {},
     "output_type": "execute_result"
    }
   ],
   "source": [
    "#CSS Styling for better view of the notebook\n",
    "\n",
    "from IPython.core.display import HTML\n",
    "HTML(\"\"\"\n",
    "<style>\n",
    "\n",
    "div.cell { /* Tunes the space between cells */\n",
    "margin-top:1em;\n",
    "margin-bottom:1em;\n",
    "}\n",
    "\n",
    "div.text_cell_render h1 { /* Main titles bigger, centered */\n",
    "font-size: 2.2em;\n",
    "line-height:1.4em;\n",
    "text-align:center;\n",
    "}\n",
    "\n",
    "div.text_cell_render h2 { /*  Parts names nearer from text */\n",
    "margin-bottom: -0.4em;\n",
    "}\n",
    "\n",
    "\n",
    "div.text_cell_render { /* Customize text cells */\n",
    "font-family: 'Times New Roman';\n",
    "font-style:italic;\n",
    "font-size:1.4em;\n",
    "line-height:1.4em;\n",
    "padding-left:0em;\n",
    "padding-right:0em;\n",
    "}\n",
    "</style>\n",
    "\"\"\")"
   ]
  },
  {
   "cell_type": "code",
   "execution_count": 3,
   "metadata": {},
   "outputs": [],
   "source": [
    "#Setting default parameters of the plot \n",
    "\n",
    "SMALL_SIZE = 16\n",
    "MEDIUM_SIZE = 20\n",
    "BIGGER_SIZE = 22\n",
    "FIGURE_SIZE = (8,6)\n",
    "\n",
    "plt.rc('font', size=SMALL_SIZE)          # controls default text sizes\n",
    "plt.rc('axes', titlesize=SMALL_SIZE)     # fontsize of the axes title\n",
    "plt.rc('axes', labelsize=MEDIUM_SIZE)    # fontsize of the x and y labels\n",
    "plt.rc('xtick', labelsize=SMALL_SIZE)    # fontsize of the tick labels\n",
    "plt.rc('ytick', labelsize=SMALL_SIZE)    # fontsize of the tick labels\n",
    "plt.rc('legend', fontsize=SMALL_SIZE)    # legend fontsize\n",
    "plt.rc('figure', titlesize=BIGGER_SIZE)  # fontsize of the figure title\n",
    "plt.rc('figure', figsize = FIGURE_SIZE)  # controls figuresize "
   ]
  },
  {
   "cell_type": "code",
   "execution_count": 40,
   "metadata": {
    "scrolled": true
   },
   "outputs": [],
   "source": [
    "#Reading AFL data from CSV file\n",
    "\n",
    "afl_data = pd.read_csv('RawData.csv')"
   ]
  },
  {
   "cell_type": "code",
   "execution_count": 41,
   "metadata": {},
   "outputs": [
    {
     "name": "stdout",
     "output_type": "stream",
     "text": [
      "Shape of the dataframe(row, column) : (146607, 32)\n"
     ]
    }
   ],
   "source": [
    "#Print Shape of the dataframe\n",
    "\n",
    "print(\"Shape of the dataframe(row, column) :\", afl_data.shape)"
   ]
  },
  {
   "cell_type": "code",
   "execution_count": 42,
   "metadata": {},
   "outputs": [
    {
     "name": "stdout",
     "output_type": "stream",
     "text": [
      "Number of missing values in the dataframe are : 0\n"
     ]
    }
   ],
   "source": [
    "#to check if there are any missing values in the dataframe\n",
    "\n",
    "print(\"Number of missing values in the dataframe are :\", afl_data.isnull().sum().sum())"
   ]
  },
  {
   "cell_type": "code",
   "execution_count": 43,
   "metadata": {},
   "outputs": [
    {
     "data": {
      "text/plain": [
       "Date                object\n",
       "Name                object\n",
       "Team                object\n",
       "Season             float64\n",
       "Round               object\n",
       "Home Team           object\n",
       "Away Team           object\n",
       "Home Score           int64\n",
       "Away Score           int64\n",
       "Margin               int64\n",
       "Disposals          float64\n",
       "Kicks              float64\n",
       "Marks              float64\n",
       "Handballs          float64\n",
       "Goals              float64\n",
       "Behinds            float64\n",
       "Hitouts            float64\n",
       "Tackles            float64\n",
       "Rebounds           float64\n",
       "Inside 50s         float64\n",
       "Clearances         float64\n",
       "Clangers           float64\n",
       "Frees For          float64\n",
       "Frees Against      float64\n",
       "Contested Pos      float64\n",
       "Uncontested Pos    float64\n",
       "Contested Marks    float64\n",
       "Marks Inside 50    float64\n",
       "One Percenters     float64\n",
       "Goal Assists       float64\n",
       "Brownlow Votes     float64\n",
       "TOG                  int64\n",
       "dtype: object"
      ]
     },
     "execution_count": 43,
     "metadata": {},
     "output_type": "execute_result"
    }
   ],
   "source": [
    "#Find out data types of columns\n",
    "\n",
    "afl_data.dtypes"
   ]
  },
  {
   "cell_type": "code",
   "execution_count": 44,
   "metadata": {},
   "outputs": [],
   "source": [
    "#Convert Season from float to int for convinience \n",
    "\n",
    "afl_data['Season'] = afl_data['Season'].astype(int)"
   ]
  },
  {
   "cell_type": "code",
   "execution_count": 45,
   "metadata": {},
   "outputs": [
    {
     "data": {
      "text/html": [
       "<div>\n",
       "<style scoped>\n",
       "    .dataframe tbody tr th:only-of-type {\n",
       "        vertical-align: middle;\n",
       "    }\n",
       "\n",
       "    .dataframe tbody tr th {\n",
       "        vertical-align: top;\n",
       "    }\n",
       "\n",
       "    .dataframe thead th {\n",
       "        text-align: right;\n",
       "    }\n",
       "</style>\n",
       "<table border=\"1\" class=\"dataframe\">\n",
       "  <thead>\n",
       "    <tr style=\"text-align: right;\">\n",
       "      <th></th>\n",
       "      <th>Date</th>\n",
       "      <th>Name</th>\n",
       "      <th>Team</th>\n",
       "      <th>Season</th>\n",
       "      <th>Round</th>\n",
       "      <th>Home Team</th>\n",
       "      <th>Away Team</th>\n",
       "      <th>Home Score</th>\n",
       "      <th>Away Score</th>\n",
       "      <th>Margin</th>\n",
       "      <th>...</th>\n",
       "      <th>Frees For</th>\n",
       "      <th>Frees Against</th>\n",
       "      <th>Contested Pos</th>\n",
       "      <th>Uncontested Pos</th>\n",
       "      <th>Contested Marks</th>\n",
       "      <th>Marks Inside 50</th>\n",
       "      <th>One Percenters</th>\n",
       "      <th>Goal Assists</th>\n",
       "      <th>Brownlow Votes</th>\n",
       "      <th>TOG</th>\n",
       "    </tr>\n",
       "  </thead>\n",
       "  <tbody>\n",
       "    <tr>\n",
       "      <th>0</th>\n",
       "      <td>2019-09-28 00:00:00</td>\n",
       "      <td>Zac Williams</td>\n",
       "      <td>Greater Western Sydney</td>\n",
       "      <td>2019</td>\n",
       "      <td>GF</td>\n",
       "      <td>Richmond</td>\n",
       "      <td>Greater Western Sydney</td>\n",
       "      <td>114</td>\n",
       "      <td>25</td>\n",
       "      <td>89</td>\n",
       "      <td>...</td>\n",
       "      <td>0.0</td>\n",
       "      <td>0.0</td>\n",
       "      <td>7.0</td>\n",
       "      <td>13.0</td>\n",
       "      <td>0.0</td>\n",
       "      <td>1.0</td>\n",
       "      <td>0.0</td>\n",
       "      <td>0.0</td>\n",
       "      <td>0.0</td>\n",
       "      <td>68</td>\n",
       "    </tr>\n",
       "    <tr>\n",
       "      <th>1</th>\n",
       "      <td>2019-09-28 00:00:00</td>\n",
       "      <td>Lachie Whitfield</td>\n",
       "      <td>Greater Western Sydney</td>\n",
       "      <td>2019</td>\n",
       "      <td>GF</td>\n",
       "      <td>Richmond</td>\n",
       "      <td>Greater Western Sydney</td>\n",
       "      <td>114</td>\n",
       "      <td>25</td>\n",
       "      <td>89</td>\n",
       "      <td>...</td>\n",
       "      <td>0.0</td>\n",
       "      <td>1.0</td>\n",
       "      <td>4.0</td>\n",
       "      <td>9.0</td>\n",
       "      <td>0.0</td>\n",
       "      <td>0.0</td>\n",
       "      <td>1.0</td>\n",
       "      <td>0.0</td>\n",
       "      <td>0.0</td>\n",
       "      <td>91</td>\n",
       "    </tr>\n",
       "    <tr>\n",
       "      <th>2</th>\n",
       "      <td>2019-09-28 00:00:00</td>\n",
       "      <td>Adam Tomlinson</td>\n",
       "      <td>Greater Western Sydney</td>\n",
       "      <td>2019</td>\n",
       "      <td>GF</td>\n",
       "      <td>Richmond</td>\n",
       "      <td>Greater Western Sydney</td>\n",
       "      <td>114</td>\n",
       "      <td>25</td>\n",
       "      <td>89</td>\n",
       "      <td>...</td>\n",
       "      <td>0.0</td>\n",
       "      <td>1.0</td>\n",
       "      <td>6.0</td>\n",
       "      <td>11.0</td>\n",
       "      <td>0.0</td>\n",
       "      <td>0.0</td>\n",
       "      <td>1.0</td>\n",
       "      <td>0.0</td>\n",
       "      <td>0.0</td>\n",
       "      <td>83</td>\n",
       "    </tr>\n",
       "    <tr>\n",
       "      <th>3</th>\n",
       "      <td>2019-09-28 00:00:00</td>\n",
       "      <td>Sam Taylor</td>\n",
       "      <td>Greater Western Sydney</td>\n",
       "      <td>2019</td>\n",
       "      <td>GF</td>\n",
       "      <td>Richmond</td>\n",
       "      <td>Greater Western Sydney</td>\n",
       "      <td>114</td>\n",
       "      <td>25</td>\n",
       "      <td>89</td>\n",
       "      <td>...</td>\n",
       "      <td>1.0</td>\n",
       "      <td>0.0</td>\n",
       "      <td>6.0</td>\n",
       "      <td>8.0</td>\n",
       "      <td>1.0</td>\n",
       "      <td>0.0</td>\n",
       "      <td>9.0</td>\n",
       "      <td>0.0</td>\n",
       "      <td>0.0</td>\n",
       "      <td>91</td>\n",
       "    </tr>\n",
       "    <tr>\n",
       "      <th>4</th>\n",
       "      <td>2019-09-28 00:00:00</td>\n",
       "      <td>Tim Taranto</td>\n",
       "      <td>Greater Western Sydney</td>\n",
       "      <td>2019</td>\n",
       "      <td>GF</td>\n",
       "      <td>Richmond</td>\n",
       "      <td>Greater Western Sydney</td>\n",
       "      <td>114</td>\n",
       "      <td>25</td>\n",
       "      <td>89</td>\n",
       "      <td>...</td>\n",
       "      <td>3.0</td>\n",
       "      <td>1.0</td>\n",
       "      <td>15.0</td>\n",
       "      <td>18.0</td>\n",
       "      <td>0.0</td>\n",
       "      <td>0.0</td>\n",
       "      <td>1.0</td>\n",
       "      <td>0.0</td>\n",
       "      <td>0.0</td>\n",
       "      <td>80</td>\n",
       "    </tr>\n",
       "  </tbody>\n",
       "</table>\n",
       "<p>5 rows × 32 columns</p>\n",
       "</div>"
      ],
      "text/plain": [
       "                  Date              Name                    Team  Season  \\\n",
       "0  2019-09-28 00:00:00      Zac Williams  Greater Western Sydney    2019   \n",
       "1  2019-09-28 00:00:00  Lachie Whitfield  Greater Western Sydney    2019   \n",
       "2  2019-09-28 00:00:00    Adam Tomlinson  Greater Western Sydney    2019   \n",
       "3  2019-09-28 00:00:00        Sam Taylor  Greater Western Sydney    2019   \n",
       "4  2019-09-28 00:00:00       Tim Taranto  Greater Western Sydney    2019   \n",
       "\n",
       "  Round Home Team               Away Team  Home Score  Away Score  Margin  \\\n",
       "0    GF  Richmond  Greater Western Sydney         114          25      89   \n",
       "1    GF  Richmond  Greater Western Sydney         114          25      89   \n",
       "2    GF  Richmond  Greater Western Sydney         114          25      89   \n",
       "3    GF  Richmond  Greater Western Sydney         114          25      89   \n",
       "4    GF  Richmond  Greater Western Sydney         114          25      89   \n",
       "\n",
       "   ...  Frees For  Frees Against  Contested Pos  Uncontested Pos  \\\n",
       "0  ...        0.0            0.0            7.0             13.0   \n",
       "1  ...        0.0            1.0            4.0              9.0   \n",
       "2  ...        0.0            1.0            6.0             11.0   \n",
       "3  ...        1.0            0.0            6.0              8.0   \n",
       "4  ...        3.0            1.0           15.0             18.0   \n",
       "\n",
       "   Contested Marks  Marks Inside 50  One Percenters  Goal Assists  \\\n",
       "0              0.0              1.0             0.0           0.0   \n",
       "1              0.0              0.0             1.0           0.0   \n",
       "2              0.0              0.0             1.0           0.0   \n",
       "3              1.0              0.0             9.0           0.0   \n",
       "4              0.0              0.0             1.0           0.0   \n",
       "\n",
       "   Brownlow Votes  TOG  \n",
       "0             0.0   68  \n",
       "1             0.0   91  \n",
       "2             0.0   83  \n",
       "3             0.0   91  \n",
       "4             0.0   80  \n",
       "\n",
       "[5 rows x 32 columns]"
      ]
     },
     "execution_count": 45,
     "metadata": {},
     "output_type": "execute_result"
    }
   ],
   "source": [
    "afl_data.head()"
   ]
  },
  {
   "cell_type": "code",
   "execution_count": 46,
   "metadata": {},
   "outputs": [],
   "source": [
    "#Dividing the dataframe into training and test based on the year condition\n",
    "\n",
    "afl_data_training = afl_data[afl_data['Season'] <= 2015] \n",
    "\n",
    "afl_data_test = afl_data[afl_data['Season'] > 2015] "
   ]
  },
  {
   "cell_type": "code",
   "execution_count": 47,
   "metadata": {},
   "outputs": [
    {
     "name": "stdout",
     "output_type": "stream",
     "text": [
      "Shape of the training dataframe(row, column) : (110175, 32)\n",
      "Shape of the testing dataframe(row, column) : (36432, 32)\n"
     ]
    }
   ],
   "source": [
    "#Print Shape of the training and test dataframes\n",
    "\n",
    "print(\"Shape of the training dataframe(row, column) :\", afl_data_training.shape)\n",
    "\n",
    "print(\"Shape of the testing dataframe(row, column) :\", afl_data_test.shape)"
   ]
  },
  {
   "cell_type": "code",
   "execution_count": 48,
   "metadata": {
    "scrolled": true
   },
   "outputs": [
    {
     "data": {
      "text/html": [
       "<div>\n",
       "<style scoped>\n",
       "    .dataframe tbody tr th:only-of-type {\n",
       "        vertical-align: middle;\n",
       "    }\n",
       "\n",
       "    .dataframe tbody tr th {\n",
       "        vertical-align: top;\n",
       "    }\n",
       "\n",
       "    .dataframe thead th {\n",
       "        text-align: right;\n",
       "    }\n",
       "</style>\n",
       "<table border=\"1\" class=\"dataframe\">\n",
       "  <thead>\n",
       "    <tr style=\"text-align: right;\">\n",
       "      <th></th>\n",
       "      <th>Date</th>\n",
       "      <th>Name</th>\n",
       "      <th>Team</th>\n",
       "      <th>Season</th>\n",
       "      <th>Round</th>\n",
       "      <th>Home Team</th>\n",
       "      <th>Away Team</th>\n",
       "      <th>Home Score</th>\n",
       "      <th>Away Score</th>\n",
       "      <th>Margin</th>\n",
       "      <th>...</th>\n",
       "      <th>Frees For</th>\n",
       "      <th>Frees Against</th>\n",
       "      <th>Contested Pos</th>\n",
       "      <th>Uncontested Pos</th>\n",
       "      <th>Contested Marks</th>\n",
       "      <th>Marks Inside 50</th>\n",
       "      <th>One Percenters</th>\n",
       "      <th>Goal Assists</th>\n",
       "      <th>Brownlow Votes</th>\n",
       "      <th>TOG</th>\n",
       "    </tr>\n",
       "  </thead>\n",
       "  <tbody>\n",
       "    <tr>\n",
       "      <th>27412</th>\n",
       "      <td>2015-07-18 00:00:00</td>\n",
       "      <td>Zac Williams</td>\n",
       "      <td>Greater Western Sydney</td>\n",
       "      <td>2015</td>\n",
       "      <td>16</td>\n",
       "      <td>Gold Coast</td>\n",
       "      <td>Greater Western Sydney</td>\n",
       "      <td>79</td>\n",
       "      <td>94</td>\n",
       "      <td>-15</td>\n",
       "      <td>...</td>\n",
       "      <td>0.0</td>\n",
       "      <td>1.0</td>\n",
       "      <td>3.0</td>\n",
       "      <td>17.0</td>\n",
       "      <td>0.0</td>\n",
       "      <td>0.0</td>\n",
       "      <td>1.0</td>\n",
       "      <td>0.0</td>\n",
       "      <td>0.0</td>\n",
       "      <td>81</td>\n",
       "    </tr>\n",
       "    <tr>\n",
       "      <th>27413</th>\n",
       "      <td>2015-07-18 00:00:00</td>\n",
       "      <td>Lachie Whitfield</td>\n",
       "      <td>Greater Western Sydney</td>\n",
       "      <td>2015</td>\n",
       "      <td>16</td>\n",
       "      <td>Gold Coast</td>\n",
       "      <td>Greater Western Sydney</td>\n",
       "      <td>79</td>\n",
       "      <td>94</td>\n",
       "      <td>-15</td>\n",
       "      <td>...</td>\n",
       "      <td>0.0</td>\n",
       "      <td>2.0</td>\n",
       "      <td>2.0</td>\n",
       "      <td>15.0</td>\n",
       "      <td>0.0</td>\n",
       "      <td>0.0</td>\n",
       "      <td>1.0</td>\n",
       "      <td>1.0</td>\n",
       "      <td>0.0</td>\n",
       "      <td>91</td>\n",
       "    </tr>\n",
       "    <tr>\n",
       "      <th>27414</th>\n",
       "      <td>2015-07-18 00:00:00</td>\n",
       "      <td>Callan Ward</td>\n",
       "      <td>Greater Western Sydney</td>\n",
       "      <td>2015</td>\n",
       "      <td>16</td>\n",
       "      <td>Gold Coast</td>\n",
       "      <td>Greater Western Sydney</td>\n",
       "      <td>79</td>\n",
       "      <td>94</td>\n",
       "      <td>-15</td>\n",
       "      <td>...</td>\n",
       "      <td>1.0</td>\n",
       "      <td>1.0</td>\n",
       "      <td>15.0</td>\n",
       "      <td>17.0</td>\n",
       "      <td>2.0</td>\n",
       "      <td>2.0</td>\n",
       "      <td>0.0</td>\n",
       "      <td>0.0</td>\n",
       "      <td>1.0</td>\n",
       "      <td>82</td>\n",
       "    </tr>\n",
       "    <tr>\n",
       "      <th>27415</th>\n",
       "      <td>2015-07-18 00:00:00</td>\n",
       "      <td>Adam Treloar</td>\n",
       "      <td>Greater Western Sydney</td>\n",
       "      <td>2015</td>\n",
       "      <td>16</td>\n",
       "      <td>Gold Coast</td>\n",
       "      <td>Greater Western Sydney</td>\n",
       "      <td>79</td>\n",
       "      <td>94</td>\n",
       "      <td>-15</td>\n",
       "      <td>...</td>\n",
       "      <td>0.0</td>\n",
       "      <td>1.0</td>\n",
       "      <td>3.0</td>\n",
       "      <td>16.0</td>\n",
       "      <td>0.0</td>\n",
       "      <td>0.0</td>\n",
       "      <td>0.0</td>\n",
       "      <td>3.0</td>\n",
       "      <td>0.0</td>\n",
       "      <td>81</td>\n",
       "    </tr>\n",
       "    <tr>\n",
       "      <th>27416</th>\n",
       "      <td>2015-07-18 00:00:00</td>\n",
       "      <td>Adam Tomlinson</td>\n",
       "      <td>Greater Western Sydney</td>\n",
       "      <td>2015</td>\n",
       "      <td>16</td>\n",
       "      <td>Gold Coast</td>\n",
       "      <td>Greater Western Sydney</td>\n",
       "      <td>79</td>\n",
       "      <td>94</td>\n",
       "      <td>-15</td>\n",
       "      <td>...</td>\n",
       "      <td>0.0</td>\n",
       "      <td>0.0</td>\n",
       "      <td>5.0</td>\n",
       "      <td>13.0</td>\n",
       "      <td>0.0</td>\n",
       "      <td>0.0</td>\n",
       "      <td>6.0</td>\n",
       "      <td>0.0</td>\n",
       "      <td>0.0</td>\n",
       "      <td>94</td>\n",
       "    </tr>\n",
       "  </tbody>\n",
       "</table>\n",
       "<p>5 rows × 32 columns</p>\n",
       "</div>"
      ],
      "text/plain": [
       "                      Date              Name                    Team  Season  \\\n",
       "27412  2015-07-18 00:00:00      Zac Williams  Greater Western Sydney    2015   \n",
       "27413  2015-07-18 00:00:00  Lachie Whitfield  Greater Western Sydney    2015   \n",
       "27414  2015-07-18 00:00:00       Callan Ward  Greater Western Sydney    2015   \n",
       "27415  2015-07-18 00:00:00      Adam Treloar  Greater Western Sydney    2015   \n",
       "27416  2015-07-18 00:00:00    Adam Tomlinson  Greater Western Sydney    2015   \n",
       "\n",
       "      Round   Home Team               Away Team  Home Score  Away Score  \\\n",
       "27412    16  Gold Coast  Greater Western Sydney          79          94   \n",
       "27413    16  Gold Coast  Greater Western Sydney          79          94   \n",
       "27414    16  Gold Coast  Greater Western Sydney          79          94   \n",
       "27415    16  Gold Coast  Greater Western Sydney          79          94   \n",
       "27416    16  Gold Coast  Greater Western Sydney          79          94   \n",
       "\n",
       "       Margin  ...  Frees For  Frees Against  Contested Pos  Uncontested Pos  \\\n",
       "27412     -15  ...        0.0            1.0            3.0             17.0   \n",
       "27413     -15  ...        0.0            2.0            2.0             15.0   \n",
       "27414     -15  ...        1.0            1.0           15.0             17.0   \n",
       "27415     -15  ...        0.0            1.0            3.0             16.0   \n",
       "27416     -15  ...        0.0            0.0            5.0             13.0   \n",
       "\n",
       "       Contested Marks  Marks Inside 50  One Percenters  Goal Assists  \\\n",
       "27412              0.0              0.0             1.0           0.0   \n",
       "27413              0.0              0.0             1.0           1.0   \n",
       "27414              2.0              2.0             0.0           0.0   \n",
       "27415              0.0              0.0             0.0           3.0   \n",
       "27416              0.0              0.0             6.0           0.0   \n",
       "\n",
       "       Brownlow Votes  TOG  \n",
       "27412             0.0   81  \n",
       "27413             0.0   91  \n",
       "27414             1.0   82  \n",
       "27415             0.0   81  \n",
       "27416             0.0   94  \n",
       "\n",
       "[5 rows x 32 columns]"
      ]
     },
     "execution_count": 48,
     "metadata": {},
     "output_type": "execute_result"
    }
   ],
   "source": [
    "afl_data_training.head()"
   ]
  },
  {
   "cell_type": "code",
   "execution_count": 49,
   "metadata": {},
   "outputs": [
    {
     "data": {
      "text/plain": [
       "Index(['Date', 'Name', 'Team', 'Season', 'Round', 'Home Team', 'Away Team',\n",
       "       'Home Score', 'Away Score', 'Margin', 'Disposals', 'Kicks', 'Marks',\n",
       "       'Handballs', 'Goals', 'Behinds', 'Hitouts', 'Tackles', 'Rebounds',\n",
       "       'Inside 50s', 'Clearances', 'Clangers', 'Frees For', 'Frees Against',\n",
       "       'Contested Pos', 'Uncontested Pos', 'Contested Marks',\n",
       "       'Marks Inside 50', 'One Percenters', 'Goal Assists', 'Brownlow Votes',\n",
       "       'TOG'],\n",
       "      dtype='object')"
      ]
     },
     "execution_count": 49,
     "metadata": {},
     "output_type": "execute_result"
    }
   ],
   "source": [
    "afl_data_training.columns"
   ]
  },
  {
   "cell_type": "markdown",
   "metadata": {},
   "source": [
    "## Criterion used for selecting the predictors is:"
   ]
  },
  {
   "cell_type": "markdown",
   "metadata": {},
   "source": [
    "##### Columns containing String values such as Player Name, Team, Round, Home Team and Away Team are not considered as predictors\n",
    "\n",
    "##### Column such as Margin is not considered as it provides redundant information because its the difference between home and away score"
   ]
  },
  {
   "cell_type": "code",
   "execution_count": 50,
   "metadata": {},
   "outputs": [],
   "source": [
    "# Predictor and target columns\n",
    "\n",
    "pred_cols = ['Home Score', 'Away Score', 'Disposals', 'Kicks', 'Marks', 'Handballs', \n",
    "             'Goals', 'Behinds', 'Hitouts', 'Tackles', 'Rebounds', 'Inside 50s', 'Clearances', 'Clangers', \n",
    "             'Frees For', 'Frees Against','Contested Pos', 'Uncontested Pos', 'Contested Marks','Marks Inside 50',\n",
    "             'One Percenters', 'Goal Assists', 'TOG']\n",
    "\n",
    "target_col = 'Brownlow Votes'"
   ]
  },
  {
   "cell_type": "code",
   "execution_count": 65,
   "metadata": {},
   "outputs": [
    {
     "name": "stdout",
     "output_type": "stream",
     "text": [
      "Optimum number of features: 22\n",
      "Score with 22 features: 0.203036\n"
     ]
    }
   ],
   "source": [
    "X = afl_data_training[pred_cols]\n",
    "\n",
    "y = afl_data_training[target_col]\n",
    "\n",
    "#Maximum number of features that can be selected\n",
    "\n",
    "tot = np.arange(1,23)            \n",
    "\n",
    "high_score=0\n",
    "\n",
    "#Variable to store the optimum features\n",
    "\n",
    "nof=0           \n",
    "\n",
    "score_list =[]\n",
    "\n",
    "for n in range(len(tot)):\n",
    "    X_train, X_test, y_train, y_test = train_test_split(X,y, test_size = 0.3, random_state = 0)\n",
    "    model = LinearRegression()\n",
    "    rfe = RFE(model,nof_list[n])\n",
    "    X_train_rfe = rfe.fit_transform(X_train,y_train)\n",
    "    X_test_rfe = rfe.transform(X_test)\n",
    "    model.fit(X_train_rfe,y_train)\n",
    "    score = model.score(X_test_rfe,y_test)\n",
    "    score_list.append(score)\n",
    "    if(score>high_score):\n",
    "        high_score = score\n",
    "        nof = tot[n]\n",
    "\n",
    "print(\"Optimum number of features: %d\" %nof)\n",
    "\n",
    "print(\"Score with %d features: %f\" % (nof, high_score))"
   ]
  },
  {
   "cell_type": "code",
   "execution_count": 64,
   "metadata": {},
   "outputs": [
    {
     "name": "stdout",
     "output_type": "stream",
     "text": [
      "Index(['Home Score', 'Disposals', 'Kicks', 'Marks', 'Handballs', 'Goals',\n",
      "       'Behinds', 'Hitouts', 'Tackles', 'Rebounds', 'Inside 50s', 'Clearances',\n",
      "       'Clangers', 'Frees For', 'Frees Against', 'Contested Pos',\n",
      "       'Uncontested Pos', 'Contested Marks', 'Marks Inside 50',\n",
      "       'One Percenters', 'Goal Assists', 'TOG'],\n",
      "      dtype='object')\n"
     ]
    }
   ],
   "source": [
    "cols = list(X.columns)\n",
    "model = LinearRegression()\n",
    "#Initializing RFE model\n",
    "rfe = RFE(model, 22)             \n",
    "#Transforming data using RFE\n",
    "X_rfe = rfe.fit_transform(X,y)  \n",
    "#Fitting the data to model\n",
    "model.fit(X_rfe,y)              \n",
    "temp = pd.Series(rfe.support_,index = cols)\n",
    "selected_features_rfe = temp[temp==True].index\n",
    "print(selected_features_rfe)"
   ]
  },
  {
   "cell_type": "markdown",
   "metadata": {},
   "source": [
    "### All the selected predictor columns except Away Score turned out to be important."
   ]
  },
  {
   "cell_type": "markdown",
   "metadata": {},
   "source": [
    "## Checking the distribution of Some key variables in the data frame\n"
   ]
  },
  {
   "cell_type": "code",
   "execution_count": 66,
   "metadata": {},
   "outputs": [
    {
     "data": {
      "text/plain": [
       "Text(0, 0.5, 'Density')"
      ]
     },
     "execution_count": 66,
     "metadata": {},
     "output_type": "execute_result"
    },
    {
     "data": {
      "image/png": "[encoded data removed]",
      "text/plain": [
       "<Figure size 576x432 with 1 Axes>"
      ]
     },
     "metadata": {
      "needs_background": "light"
     },
     "output_type": "display_data"
    }
   ],
   "source": [
    "#Distribution for home score variable using distribution plot\n",
    "\n",
    "home_score_plot = sbs.distplot(afl_data_training['Home Score'], hist = True, bins = 10, color = 'darkblue', \n",
    "                                hist_kws = {'edgecolor':'black'},kde_kws={'linewidth': 4})\n",
    "\n",
    "plt.title(\"Histogram of Home Score\")\n",
    "\n",
    "plt.xlabel(\"Home Score in Points\")\n",
    "\n",
    "plt.ylabel(\"Density\")"
   ]
  },
  {
   "cell_type": "code",
   "execution_count": 67,
   "metadata": {},
   "outputs": [
    {
     "data": {
      "text/plain": [
       "Text(0, 0.5, 'Density')"
      ]
     },
     "execution_count": 67,
     "metadata": {},
     "output_type": "execute_result"
    },
    {
     "data": {
      "image/png": "[encoded data removed]",
      "text/plain": [
       "<Figure size 576x432 with 1 Axes>"
      ]
     },
     "metadata": {
      "needs_background": "light"
     },
     "output_type": "display_data"
    }
   ],
   "source": [
    "#Distribution for away score variable using distribution plot\n",
    "\n",
    "away_score_plot = sbs.distplot(afl_data_training['Away Score'], hist = True, bins = 10, color = 'darkblue', \n",
    "                                hist_kws = {'edgecolor':'black'},kde_kws={'linewidth': 4})\n",
    "\n",
    "plt.title(\"Histogram of Away Score\")\n",
    "\n",
    "plt.xlabel(\"Home Score in Points\")\n",
    "\n",
    "plt.ylabel(\"Density\")"
   ]
  },
  {
   "cell_type": "code",
   "execution_count": 68,
   "metadata": {},
   "outputs": [
    {
     "data": {
      "text/plain": [
       "Text(0, 0.5, 'Density')"
      ]
     },
     "execution_count": 68,
     "metadata": {},
     "output_type": "execute_result"
    },
    {
     "data": {
      "image/png": "[encoded data removed]",
      "text/plain": [
       "<Figure size 576x432 with 1 Axes>"
      ]
     },
     "metadata": {
      "needs_background": "light"
     },
     "output_type": "display_data"
    }
   ],
   "source": [
    "#Distribution for disposals variable using distribution plot\n",
    "\n",
    "disposals_plot = sbs.distplot(afl_data_training['Disposals'], hist = True, bins = 10, color = 'darkblue', \n",
    "                                hist_kws = {'edgecolor':'black'},kde_kws={'linewidth': 4})\n",
    "\n",
    "plt.title(\"Histogram of Disposals\")\n",
    "\n",
    "plt.xlabel(\"Disposals\")\n",
    "\n",
    "plt.ylabel(\"Density\")"
   ]
  },
  {
   "cell_type": "code",
   "execution_count": 69,
   "metadata": {},
   "outputs": [
    {
     "data": {
      "text/plain": [
       "Text(0, 0.5, 'Density')"
      ]
     },
     "execution_count": 69,
     "metadata": {},
     "output_type": "execute_result"
    },
    {
     "data": {
      "image/png": "[encoded data removed]",
      "text/plain": [
       "<Figure size 576x432 with 1 Axes>"
      ]
     },
     "metadata": {
      "needs_background": "light"
     },
     "output_type": "display_data"
    }
   ],
   "source": [
    "#Distribution for kicks variable using distribution plot\n",
    "\n",
    "kicks_plot = sbs.distplot(afl_data_training['Kicks'], hist = True, bins = 10, color = 'darkblue', \n",
    "                                hist_kws = {'edgecolor':'black'},kde_kws={'linewidth': 4})\n",
    "\n",
    "plt.title(\"Histogram of Kicks\")\n",
    "\n",
    "plt.xlabel(\"Kicks\")\n",
    "\n",
    "plt.ylabel(\"Density\")"
   ]
  },
  {
   "cell_type": "code",
   "execution_count": 70,
   "metadata": {},
   "outputs": [
    {
     "data": {
      "text/plain": [
       "Text(0, 0.5, 'Density')"
      ]
     },
     "execution_count": 70,
     "metadata": {},
     "output_type": "execute_result"
    },
    {
     "data": {
      "image/png": "[encoded data removed]",
      "text/plain": [
       "<Figure size 576x432 with 1 Axes>"
      ]
     },
     "metadata": {
      "needs_background": "light"
     },
     "output_type": "display_data"
    }
   ],
   "source": [
    "#Distribution for marks variable using distribution plot\n",
    "\n",
    "marks_plot = sbs.distplot(afl_data_training['Marks'], hist = True, bins = 10, color = 'darkblue', \n",
    "                                hist_kws = {'edgecolor':'black'},kde_kws={'linewidth': 4})\n",
    "\n",
    "plt.title(\"Histogram of Marks\")\n",
    "\n",
    "plt.xlabel(\"Marks\")\n",
    "\n",
    "plt.ylabel(\"Density\")"
   ]
  },
  {
   "cell_type": "code",
   "execution_count": 71,
   "metadata": {},
   "outputs": [],
   "source": [
    "#Dividing the columns to create Independednt and Predictor variables\n",
    "\n",
    "X_train = afl_data_training.loc[:, pred_cols]\n",
    "\n",
    "y_train = afl_data_training.loc[:,'Brownlow Votes']\n",
    "\n",
    "\n",
    "X_test = afl_data_test.loc[:, pred_cols]\n",
    "\n",
    "y_test = afl_data_test.loc[:,'Brownlow Votes']"
   ]
  },
  {
   "cell_type": "markdown",
   "metadata": {},
   "source": [
    "## Modelling:"
   ]
  },
  {
   "cell_type": "markdown",
   "metadata": {},
   "source": [
    "### Logistic Regression"
   ]
  },
  {
   "cell_type": "code",
   "execution_count": 72,
   "metadata": {},
   "outputs": [
    {
     "data": {
      "text/plain": [
       "LogisticRegression(random_state=13)"
      ]
     },
     "execution_count": 72,
     "metadata": {},
     "output_type": "execute_result"
    }
   ],
   "source": [
    "#Running LogisticRegression on the data:\n",
    "\n",
    "logistic_model = LogisticRegression(random_state=13)\n",
    "\n",
    "logistic_model.fit(X_train, y_train)"
   ]
  },
  {
   "cell_type": "code",
   "execution_count": 73,
   "metadata": {},
   "outputs": [],
   "source": [
    "y_predLR_train = logistic_model.predict(X_train)\n",
    "\n",
    "y_predLR_test  = logistic_model.predict(X_test)"
   ]
  },
  {
   "cell_type": "code",
   "execution_count": 74,
   "metadata": {},
   "outputs": [
    {
     "name": "stdout",
     "output_type": "stream",
     "text": [
      "Accuracy score of Training dataset is :  0.937426820966644\n",
      "Accuracy score of testing dataset is :  0.9398880105401844\n"
     ]
    }
   ],
   "source": [
    "#Printing Accuracy scores across dataframes\n",
    "\n",
    "print(\"Accuracy score of Training dataset is : \",accuracy_score(y_train,y_predLR_train))\n",
    "\n",
    "print(\"Accuracy score of testing dataset is : \",accuracy_score(y_test,y_predLR_test))"
   ]
  },
  {
   "cell_type": "markdown",
   "metadata": {},
   "source": [
    "## Random Forest"
   ]
  },
  {
   "cell_type": "code",
   "execution_count": 75,
   "metadata": {},
   "outputs": [
    {
     "data": {
      "text/plain": [
       "RandomForestClassifier(max_depth=7, random_state=23)"
      ]
     },
     "execution_count": 75,
     "metadata": {},
     "output_type": "execute_result"
    }
   ],
   "source": [
    "##Random Forest Classifier Algorithm with some random depth\n",
    "\n",
    "rf = RandomForestClassifier(max_depth=7, random_state=23)\n",
    "\n",
    "rf.fit(X_train, y_train)"
   ]
  },
  {
   "cell_type": "code",
   "execution_count": 76,
   "metadata": {},
   "outputs": [],
   "source": [
    "y_predRF_train = rf.predict(X_train)\n",
    "\n",
    "y_predRF_test  = rf.predict(X_test)"
   ]
  },
  {
   "cell_type": "code",
   "execution_count": 77,
   "metadata": {},
   "outputs": [
    {
     "name": "stdout",
     "output_type": "stream",
     "text": [
      "Accuracy of Training Dataset:\t 0.9379532561833447\n",
      "Accuracy of Testing Dataset:\t 0.9393664909969258\n"
     ]
    }
   ],
   "source": [
    "#print(\"Random Forest Classifier\\n\")\n",
    "print(\"Accuracy of Training Dataset:\\t\",   accuracy_score(y_predRF_train, y_train))\n",
    "\n",
    "print(\"Accuracy of Testing Dataset:\\t\",    accuracy_score(y_predRF_test,  y_test))"
   ]
  },
  {
   "cell_type": "markdown",
   "metadata": {},
   "source": [
    "## Naive Bayes"
   ]
  },
  {
   "cell_type": "code",
   "execution_count": 78,
   "metadata": {},
   "outputs": [
    {
     "data": {
      "text/plain": [
       "GaussianNB()"
      ]
     },
     "execution_count": 78,
     "metadata": {},
     "output_type": "execute_result"
    }
   ],
   "source": [
    "##Naive Baye's Classifier Algorithm \n",
    "\n",
    "nb = GaussianNB()\n",
    "\n",
    "nb.fit(X_train, y_train)"
   ]
  },
  {
   "cell_type": "code",
   "execution_count": 79,
   "metadata": {},
   "outputs": [],
   "source": [
    "y_predNB_train = nb.predict(X_train)\n",
    "\n",
    "y_predNB_test  = nb.predict(X_test)"
   ]
  },
  {
   "cell_type": "code",
   "execution_count": 80,
   "metadata": {},
   "outputs": [
    {
     "name": "stdout",
     "output_type": "stream",
     "text": [
      "Accuracy of Training Dataset:\t 0.8503653278874518\n",
      "Accuracy of Testing Dataset:\t 0.8301218708827405\n"
     ]
    }
   ],
   "source": [
    "print(\"Accuracy of Training Dataset:\\t\",   accuracy_score(y_predNB_train, y_train))\n",
    "\n",
    "print(\"Accuracy of Testing Dataset:\\t\",    accuracy_score(y_predNB_test,  y_test))"
   ]
  },
  {
   "cell_type": "markdown",
   "metadata": {},
   "source": [
    "## Neural Networks"
   ]
  },
  {
   "cell_type": "code",
   "execution_count": 81,
   "metadata": {},
   "outputs": [
    {
     "data": {
      "text/plain": [
       "MLPClassifier(random_state=23, solver='lbfgs')"
      ]
     },
     "execution_count": 81,
     "metadata": {},
     "output_type": "execute_result"
    }
   ],
   "source": [
    "##Neural Networks - MLP Classifier Algorithm\n",
    "\n",
    "\n",
    "mlp = MLPClassifier(random_state=23,solver='lbfgs')\n",
    "\n",
    "mlp.fit(X_train, y_train)"
   ]
  },
  {
   "cell_type": "code",
   "execution_count": 82,
   "metadata": {},
   "outputs": [],
   "source": [
    "y_predNN_train = mlp.predict(X_train)\n",
    "\n",
    "y_predNN_test  = mlp.predict(X_test)"
   ]
  },
  {
   "cell_type": "code",
   "execution_count": 83,
   "metadata": {},
   "outputs": [
    {
     "name": "stdout",
     "output_type": "stream",
     "text": [
      "Accuracy of Training Dataset:\t 0.9350306330837305\n",
      "Accuracy of Testing Dataset:\t 0.9370059288537549\n"
     ]
    }
   ],
   "source": [
    "print(\"Accuracy of Training Dataset:\\t\",   accuracy_score(y_predNN_train, y_train))\n",
    "\n",
    "print(\"Accuracy of Testing Dataset:\\t\",    accuracy_score(y_predNN_test,  y_test))"
   ]
  },
  {
   "cell_type": "markdown",
   "metadata": {},
   "source": [
    "## Producing a plot with all the model accuracies"
   ]
  },
  {
   "cell_type": "code",
   "execution_count": 85,
   "metadata": {},
   "outputs": [],
   "source": [
    "model  = ['Logistic Regression', 'Random Forest', \"Naive Baye's\", 'Neural Network']\n",
    "\n",
    "trAcc  = [accuracy_score(y_predLR_train, y_train), accuracy_score(y_predRF_train, y_train),\n",
    "       accuracy_score(y_predNB_train, y_train), accuracy_score(y_predNN_train, y_train)]\n",
    "\n",
    "\n",
    "tesAcc = [accuracy_score(y_predLR_test,  y_test), accuracy_score(y_predRF_test,  y_test),\n",
    "       accuracy_score(y_predNB_test,  y_test), accuracy_score(y_predNN_test,  y_test)]\n"
   ]
  },
  {
   "cell_type": "code",
   "execution_count": 86,
   "metadata": {},
   "outputs": [
    {
     "data": {
      "image/png": "[encoded data removed]",
      "text/plain": [
       "<Figure size 1368x720 with 1 Axes>"
      ]
     },
     "metadata": {
      "needs_background": "light"
     },
     "output_type": "display_data"
    }
   ],
   "source": [
    "plt.figure(figsize = (19, 10))\n",
    "plt.plot(model, trAcc, \"o-\", label = \"Train\", color = \"red\")\n",
    "plt.plot(model, tesAcc, \"*-\", label = \"Test\", color = \"green\")\n",
    "plt.legend(fontsize=20)\n",
    "plt.xlabel(\"Models\", fontsize = 20)\n",
    "plt.ylabel(\"Accuracy\", fontsize = 20)\n",
    "plt.title(\"Models & Their Performances\", fontsize = 22)\n",
    "plt.show()"
   ]
  },
  {
   "cell_type": "markdown",
   "metadata": {},
   "source": [
    "### With the basic model signatures, Random Forest model proved to be the significant among the few tried models"
   ]
  },
  {
   "cell_type": "code",
   "execution_count": null,
   "metadata": {},
   "outputs": [],
   "source": []
  }
 ],
 "metadata": {
  "kernelspec": {
   "display_name": "Python 3",
   "language": "python",
   "name": "python3"
  },
  "language_info": {
   "codemirror_mode": {
    "name": "ipython",
    "version": 3
   },
   "file_extension": ".py",
   "mimetype": "text/x-python",
   "name": "python",
   "nbconvert_exporter": "python",
   "pygments_lexer": "ipython3",
   "version": "3.8.5"
  }
 },
 "nbformat": 4,
 "nbformat_minor": 4
}
